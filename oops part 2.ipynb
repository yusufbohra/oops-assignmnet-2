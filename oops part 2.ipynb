{
 "cells": [
  {
   "cell_type": "code",
   "execution_count": 2,
   "id": "4d76e096-35ec-4095-831d-b7fa3868a5cb",
   "metadata": {},
   "outputs": [
    {
     "name": "stdout",
     "output_type": "stream",
     "text": [
      "15\n",
      "16\n",
      "50.24\n",
      "25.12\n"
     ]
    }
   ],
   "source": [
    "#que 1\n",
    "#Abstraction is one of the fundamental principles in object-oriented programming (OOP). It refers to the process of representing the essential features of an object while hiding unnecessary details and complexities\n",
    "\n",
    "\n",
    "#example\n",
    "from abc import ABC, abstractmethod\n",
    "\n",
    "class Shape(ABC):\n",
    "    @abstractmethod\n",
    "    def area(self):\n",
    "        pass\n",
    "\n",
    "    @abstractmethod\n",
    "    def perimeter(self):\n",
    "        pass\n",
    "\n",
    "class Rectangle(Shape):\n",
    "    def __init__(self, length, width):\n",
    "        self.length = length\n",
    "        self.width = width\n",
    "\n",
    "    def area(self):\n",
    "        return self.length * self.width\n",
    "\n",
    "    def perimeter(self):\n",
    "        return 2 * (self.length + self.width)\n",
    "\n",
    "class Circle(Shape):\n",
    "    def __init__(self, radius):\n",
    "        self.radius = radius\n",
    "\n",
    "    def area(self):\n",
    "        return 3.14 * self.radius**2\n",
    "\n",
    "    def perimeter(self):\n",
    "        return 2 * 3.14 * self.radius\n",
    "\n",
    "# Create objects of the derived classes\n",
    "rectangle = Rectangle(5, 3)\n",
    "circle = Circle(4)\n",
    "\n",
    "# Accessing the common interface methods\n",
    "print(rectangle.area())  # Output: 15\n",
    "print(rectangle.perimeter())  # Output: 16\n",
    "print(circle.area())  # Output: 50.24\n",
    "print(circle.perimeter())  # Output: 25.12\n"
   ]
  },
  {
   "cell_type": "code",
   "execution_count": 3,
   "id": "7d269b46-f045-456b-a976-cbd1f8d67313",
   "metadata": {},
   "outputs": [],
   "source": [
    "#que 2\n",
    "#Abstraction is the process of representing the essential features of an object while hiding unnecessary details and complexities. It focuses on capturing the relevant characteristics and behavior of an object. Abstraction is achieved through abstract classes and interfaces.\n",
    "\n",
    "#Encapsulation is the concept of bundling data (attributes) and methods (functions) together within a class, hiding the internal implementation details from the outside world. It promotes data abstraction and provides a way to control access to the internal state of an object.\n",
    "\n"
   ]
  },
  {
   "cell_type": "code",
   "execution_count": 4,
   "id": "8a9c3256-d4c6-4309-b0ce-9b7ff89beee2",
   "metadata": {},
   "outputs": [
    {
     "data": {
      "text/plain": [
       "'The abc module and abstract base classes are used for several reasons:\\n\\nDefining common interfaces: Abstract base classes provide a way to define a common interface and behavior that multiple classes can adhere to. This promotes code reusability and modularity.\\n\\nEnforcing contracts: Abstract base classes can define contracts or requirements that subclasses must meet. By using abstract methods, the abstract base class can ensure that certain methods are implemented by the subclasses.\\n\\nPolymorphism: Abstract base classes enable polymorphism by allowing different subclasses to be treated interchangeably through their common interface. This enhances code flexibility and extensibility.\\n\\nDocumentation and design clarity: Abstract base classes serve as documentation, clearly indicating the expected interface and behavior for subclasses. They help in maintaining a consistent design and facilitate code comprehension and collaboration.'"
      ]
     },
     "execution_count": 4,
     "metadata": {},
     "output_type": "execute_result"
    }
   ],
   "source": [
    "#que 3\n",
    "#The abc module in Python stands for \"Abstract Base Classes.\" It provides the infrastructure for creating abstract base classes (ABCs) in Python.\n",
    "\n",
    "#An abstract base class is a class that cannot be instantiated and is designed to be subclassed by other classes. It serves as a blueprint or template for its subclasses, defining a common interface and behavior that the subclasses should adhere to.\n",
    "\n",
    "\"\"\"The abc module and abstract base classes are used for several reasons:\n",
    "\n",
    "Defining common interfaces: Abstract base classes provide a way to define a common interface and behavior that multiple classes can adhere to. This promotes code reusability and modularity.\n",
    "\n",
    "Enforcing contracts: Abstract base classes can define contracts or requirements that subclasses must meet. By using abstract methods, the abstract base class can ensure that certain methods are implemented by the subclasses.\n",
    "\n",
    "Polymorphism: Abstract base classes enable polymorphism by allowing different subclasses to be treated interchangeably through their common interface. This enhances code flexibility and extensibility.\n",
    "\n",
    "Documentation and design clarity: Abstract base classes serve as documentation, clearly indicating the expected interface and behavior for subclasses. They help in maintaining a consistent design and facilitate code comprehension and collaboration.\"\"\""
   ]
  },
  {
   "cell_type": "code",
   "execution_count": null,
   "id": "30ebe8f1-e7cf-4496-8845-92f9f1bce97b",
   "metadata": {},
   "outputs": [],
   "source": [
    "#que 4\n"
   ]
  }
 ],
 "metadata": {
  "kernelspec": {
   "display_name": "Python 3 (ipykernel)",
   "language": "python",
   "name": "python3"
  },
  "language_info": {
   "codemirror_mode": {
    "name": "ipython",
    "version": 3
   },
   "file_extension": ".py",
   "mimetype": "text/x-python",
   "name": "python",
   "nbconvert_exporter": "python",
   "pygments_lexer": "ipython3",
   "version": "3.10.8"
  }
 },
 "nbformat": 4,
 "nbformat_minor": 5
}
